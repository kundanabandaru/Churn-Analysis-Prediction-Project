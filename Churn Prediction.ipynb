{
 "cells": [
  {
   "cell_type": "code",
   "execution_count": 1,
   "metadata": {},
   "outputs": [
    {
     "name": "stderr",
     "output_type": "stream",
     "text": [
      "C:\\ProgramData\\Anaconda3\\lib\\site-packages\\statsmodels\\tools\\_testing.py:19: FutureWarning: pandas.util.testing is deprecated. Use the functions in the public API at pandas.testing instead.\n",
      "  import pandas.util.testing as tm\n"
     ]
    },
    {
     "name": "stdout",
     "output_type": "stream",
     "text": [
      "  Customer_ID  Gender  Age Married           State  Number_of_Referrals  \\\n",
      "0   12210-AND    Male   66      No  Andhra Pradesh                    9   \n",
      "1   12531-AND    Male   56      No  Andhra Pradesh                    1   \n",
      "2   13500-BIH    Male   51      No           Bihar                    9   \n",
      "3   14399-MAD  Female   56     Yes  Madhya Pradesh                    8   \n",
      "4   14622-PUN  Female   49     Yes          Punjab                    9   \n",
      "\n",
      "   Tenure_in_Months Value_Deal Phone_Service Multiple_Lines  ...  \\\n",
      "0                31       None            No             No  ...   \n",
      "1                12       None            No             No  ...   \n",
      "2                18       None            No             No  ...   \n",
      "3                 9       None            No             No  ...   \n",
      "4                15       None            No             No  ...   \n",
      "\n",
      "    Payment_Method Monthly_Charge Total_Charges Total_Refunds  \\\n",
      "0      Credit Card      34.299999    577.150024           0.0   \n",
      "1  Bank Withdrawal      62.500000   4136.399902           0.0   \n",
      "2      Credit Card      56.400002   2928.500000           0.0   \n",
      "3      Credit Card      35.450001   1958.949951           0.0   \n",
      "4  Bank Withdrawal      34.250000    163.550003           0.0   \n",
      "\n",
      "  Total_Extra_Data_Charges Total_Long_Distance_Charges Total_Revenue  \\\n",
      "0                        0                         0.0    577.150024   \n",
      "1                        0                         0.0   4136.399902   \n",
      "2                        0                         0.0   2928.500000   \n",
      "3                        0                         0.0   1958.949951   \n",
      "4                        0                         0.0    163.550003   \n",
      "\n",
      "  Customer_Status Churn_Category Churn_Reason  \n",
      "0          Stayed         Others       Others  \n",
      "1          Stayed         Others       Others  \n",
      "2          Stayed         Others       Others  \n",
      "3          Stayed         Others       Others  \n",
      "4          Stayed         Others       Others  \n",
      "\n",
      "[5 rows x 32 columns]\n"
     ]
    }
   ],
   "source": [
    "# import Libraries & load data\n",
    "import pandas as pd\n",
    "import numpy as np\n",
    "import matplotlib.pyplot as plt\n",
    "import seaborn as sns\n",
    "from sklearn.model_selection import train_test_split\n",
    "from sklearn.ensemble import RandomForestClassifier\n",
    "from sklearn.metrics import classification_report, confusion_matrix\n",
    "from sklearn.preprocessing import LabelEncoder\n",
    "import joblib\n",
    "# Define the path to the Excel file\n",
    "file_path = r\"D:\\Downloads_D\\statathon\\Prediction_Data.xlsx\"\n",
    "\n",
    "# Define the sheet name to read data from\n",
    "sheet_name = 'vw_ChurnData'\n",
    "\n",
    "# Read the data from the specified sheet into a pandas DataFrame\n",
    "data = pd.read_excel(file_path, sheet_name=sheet_name)\n",
    "\n",
    "# Display the first few rows of the fetched data\n",
    "print(data.head())\n"
   ]
  },
  {
   "cell_type": "code",
   "execution_count": 2,
   "metadata": {},
   "outputs": [],
   "source": [
    "# Drop columns that won't be used for prediction\n",
    "data = data.drop(['Customer_ID', 'Churn_Category', 'Churn_Reason'], axis=1)\n",
    "\n",
    "# List of columns to be label encoded\n",
    "columns_to_encode = [\n",
    "    'Gender', 'Married', 'State', 'Value_Deal', 'Phone_Service', 'Multiple_Lines',\n",
    "    'Internet_Service', 'Internet_Type', 'Online_Security', 'Online_Backup',\n",
    "    'Device_Protection_Plan', 'Premium_Support', 'Streaming_TV', 'Streaming_Movies',\n",
    "    'Streaming_Music', 'Unlimited_Data', 'Contract', 'Paperless_Billing',\n",
    "    'Payment_Method'\n",
    "]\n",
    "\n",
    "# Encode categorical variables except the target variable\n",
    "label_encoders = {}\n",
    "for column in columns_to_encode:\n",
    "    label_encoders[column] = LabelEncoder()\n",
    "    data[column] = label_encoders[column].fit_transform(data[column])\n",
    "\n",
    "# Manually encode the target variable 'Customer_Status'\n",
    "data['Customer_Status'] = data['Customer_Status'].map({'Stayed': 0, 'Churned': 1})\n",
    "\n",
    "# Split data into features and target\n",
    "X = data.drop('Customer_Status', axis=1)\n",
    "y = data['Customer_Status']\n",
    "\n",
    "# Split data into training and testing sets\n",
    "X_train, X_test, y_train, y_test = train_test_split(X, y, test_size=0.2, random_state=42)\n"
   ]
  },
  {
   "cell_type": "code",
   "execution_count": 3,
   "metadata": {},
   "outputs": [
    {
     "data": {
      "text/plain": [
       "RandomForestClassifier(random_state=42)"
      ]
     },
     "execution_count": 3,
     "metadata": {},
     "output_type": "execute_result"
    }
   ],
   "source": [
    "# Initialize the Random Forest Classifier\n",
    "rf_model = RandomForestClassifier(n_estimators=100, random_state=42)\n",
    "\n",
    "# Train the model\n",
    "rf_model.fit(X_train, y_train)\n"
   ]
  },
  {
   "cell_type": "code",
   "execution_count": 4,
   "metadata": {},
   "outputs": [
    {
     "name": "stdout",
     "output_type": "stream",
     "text": [
      "Confusion Matrix:\n",
      "[[813  49]\n",
      " [141 199]]\n",
      "\n",
      "Classification Report:\n",
      "              precision    recall  f1-score   support\n",
      "\n",
      "           0       0.85      0.94      0.90       862\n",
      "           1       0.80      0.59      0.68       340\n",
      "\n",
      "    accuracy                           0.84      1202\n",
      "   macro avg       0.83      0.76      0.79      1202\n",
      "weighted avg       0.84      0.84      0.83      1202\n",
      "\n"
     ]
    },
    {
     "data": {
      "image/png": "[encoded data removed]",
      "text/plain": [
       "<Figure size 1080x432 with 1 Axes>"
      ]
     },
     "metadata": {
      "needs_background": "light"
     },
     "output_type": "display_data"
    }
   ],
   "source": [
    "# Make predictions\n",
    "y_pred = rf_model.predict(X_test)\n",
    "\n",
    "# Evaluate the model\n",
    "print(\"Confusion Matrix:\")\n",
    "print(confusion_matrix(y_test, y_pred))\n",
    "print(\"\\nClassification Report:\")\n",
    "print(classification_report(y_test, y_pred))\n",
    "\n",
    "# Feature Selection using Feature Importance\n",
    "importances = rf_model.feature_importances_\n",
    "indices = np.argsort(importances)[::-1]\n",
    "\n",
    "# Plot the feature importances\n",
    "plt.figure(figsize=(15, 6))\n",
    "sns.barplot(x=importances[indices], y=X.columns[indices])\n",
    "plt.title('Feature Importances')\n",
    "plt.xlabel('Relative Importance')\n",
    "plt.ylabel('Feature Names')\n",
    "plt.show()\n",
    "\n"
   ]
  },
  {
   "cell_type": "code",
   "execution_count": 5,
   "metadata": {},
   "outputs": [
    {
     "name": "stdout",
     "output_type": "stream",
     "text": [
      "  Customer_ID  Gender  Age Married          State  Number_of_Referrals  \\\n",
      "0   12257-ASS  Female   39      No          Assam                    9   \n",
      "1   13946-HAR  Female   41     Yes        Haryana                    1   \n",
      "2   14567-TAM    Male   43      No     Tamil Nadu                    1   \n",
      "3   15591-KAR  Female   26      No      Karnataka                    3   \n",
      "4   15803-UTT  Female   34      No  Uttar Pradesh                    6   \n",
      "\n",
      "   Tenure_in_Months Value_Deal Phone_Service Multiple_Lines  ...  \\\n",
      "0                 1       None           Yes             No  ...   \n",
      "1                 3     Deal 5           Yes             No  ...   \n",
      "2                 9       None           Yes             No  ...   \n",
      "3                31       None           Yes             No  ...   \n",
      "4                31       None           Yes             No  ...   \n",
      "\n",
      "  Payment_Method Monthly_Charge Total_Charges Total_Refunds  \\\n",
      "0    Credit Card      19.549999     19.549999           0.0   \n",
      "1    Credit Card      19.650000     19.650000           0.0   \n",
      "2    Credit Card      20.350000     20.350000           0.0   \n",
      "3    Credit Card      20.400000     20.400000           0.0   \n",
      "4    Credit Card      19.150000     19.150000           0.0   \n",
      "\n",
      "  Total_Extra_Data_Charges Total_Long_Distance_Charges Total_Revenue  \\\n",
      "0                        0                   10.200000     29.750000   \n",
      "1                        0                   23.670000     43.320000   \n",
      "2                        0                   44.090000     64.440002   \n",
      "3                        0                   45.910000     66.309998   \n",
      "4                        0                   22.370001     41.520000   \n",
      "\n",
      "  Customer_Status Churn_Category Churn_Reason  \n",
      "0          Joined         Others       Others  \n",
      "1          Joined         Others       Others  \n",
      "2          Joined         Others       Others  \n",
      "3          Joined         Others       Others  \n",
      "4          Joined         Others       Others  \n",
      "\n",
      "[5 rows x 32 columns]\n"
     ]
    }
   ],
   "source": [
    "# Define the path to the Joiner Data Excel file\n",
    "file_path = r\"D:\\Downloads_D\\statathon\\Prediction_Data.xlsx\"\n",
    "\n",
    "# Define the sheet name to read data from\n",
    "sheet_name = 'vw_JoinData'\n",
    "\n",
    "# Read the data from the specified sheet into a pandas DataFrame\n",
    "new_data = pd.read_excel(file_path, sheet_name=sheet_name)\n",
    "\n",
    "# Display the first few rows of the fetched data\n",
    "print(new_data.head())\n",
    "\n",
    "# Retain the original DataFrame to preserve unencoded columns\n",
    "original_data = new_data.copy()\n",
    "\n",
    "# Retain the Customer_ID column\n",
    "customer_ids = new_data['Customer_ID']\n",
    "\n",
    "# Drop columns that won't be used for prediction in the encoded DataFrame\n",
    "new_data = new_data.drop(['Customer_ID', 'Customer_Status', 'Churn_Category', 'Churn_Reason'], axis=1)\n",
    "\n",
    "# Encode categorical variables using the saved label encoders\n",
    "for column in new_data.select_dtypes(include=['object']).columns:\n",
    "    new_data[column] = label_encoders[column].transform(new_data[column])\n",
    "\n",
    "# Make predictions\n",
    "new_predictions = rf_model.predict(new_data)\n",
    "\n",
    "# Add predictions to the original DataFrame\n",
    "original_data['Customer_Status_Predicted'] = new_predictions\n",
    "\n",
    "# Filter the DataFrame to include only records predicted as \"Churned\"\n",
    "original_data = original_data[original_data['Customer_Status_Predicted'] == 1]\n",
    "\n",
    "# Save the results\n",
    "original_data.to_csv(r\"D:\\Downloads_D\\statathon\\Predictions.csv\", index=False)\n"
   ]
  },
  {
   "cell_type": "code",
   "execution_count": null,
   "metadata": {},
   "outputs": [],
   "source": []
  }
 ],
 "metadata": {
  "kernelspec": {
   "display_name": "Python 3",
   "language": "python",
   "name": "python3"
  },
  "language_info": {
   "codemirror_mode": {
    "name": "ipython",
    "version": 3
   },
   "file_extension": ".py",
   "mimetype": "text/x-python",
   "name": "python",
   "nbconvert_exporter": "python",
   "pygments_lexer": "ipython3",
   "version": "3.7.3"
  }
 },
 "nbformat": 4,
 "nbformat_minor": 2
}
